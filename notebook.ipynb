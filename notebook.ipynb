{
 "cells": [
  {
   "cell_type": "code",
   "execution_count": 1,
   "id": "a2a00ee3",
   "metadata": {},
   "outputs": [],
   "source": [
    "import numpy as np\n",
    "import matplotlib.pyplot as plt\n",
    "from copy import deepcopy\n",
    "from sklearn.metrics import mean_squared_error as mse\n",
    "from tqdm import tqdm, tqdm_notebook\n",
    "import warnings\n",
    "\n",
    "warnings.filterwarnings('ignore')"
   ]
  },
  {
   "cell_type": "code",
   "execution_count": 2,
   "id": "7dd1160b",
   "metadata": {},
   "outputs": [],
   "source": [
    "SEED = 99\n",
    "np.random.seed(SEED)"
   ]
  },
  {
   "cell_type": "code",
   "execution_count": 3,
   "id": "312f329e",
   "metadata": {},
   "outputs": [],
   "source": [
    "##### Activation Functions #####\n",
    "\n",
    "def sigmoid(x):\n",
    "    \"\"\"\n",
    "        This activation function returns a value (probability) between 0 and 1\n",
    "    \"\"\"\n",
    "    \n",
    "    return 1/(1+np.exp(-x))\n",
    "\n",
    "def tanh(x):\n",
    "    \"\"\"\n",
    "        This activation function returns a value between -1 and 1\n",
    "    \"\"\"\n",
    "    \n",
    "    return np.tanh(x)\n",
    "\n",
    "def relu(x):\n",
    "    \"\"\"\n",
    "        This activation function returns a value which is either 0 or 1\n",
    "    \"\"\"\n",
    "    \n",
    "    return np.maximum(x, 0)\n",
    "\n",
    "def linear(x):\n",
    "    \"\"\"\n",
    "        This activation function returns a value which is linear\n",
    "    \"\"\"\n",
    "    \n",
    "    return x"
   ]
  },
  {
   "cell_type": "code",
   "execution_count": 4,
   "id": "4792e359",
   "metadata": {},
   "outputs": [],
   "source": [
    "##### Metrics #######   "
   ]
  },
  {
   "cell_type": "code",
   "execution_count": 5,
   "id": "c4a2b057",
   "metadata": {},
   "outputs": [],
   "source": [
    "##### Neuron #####\n",
    "\n",
    "class Neuron:\n",
    "    \"\"\"\n",
    "        Neural Network Neuron Implementation\n",
    "    \"\"\"\n",
    "    \n",
    "    def __init__(self, input_weights, bias, activation):\n",
    "        \"\"\"\n",
    "            input_weights: np.array() -> an array of shape n by 1 (n x 1) where n represents the number of inputs or activations from the previous layer\n",
    "            bias: np.float64() -> a scalar value of shape 1 by 1\n",
    "            activation: str -> the activation function for the neuron\n",
    "        \"\"\"\n",
    "        \n",
    "        self.activation = activation\n",
    "        self.weights = input_weights # np.array of randomly initialized weights\n",
    "        self.bias = bias # randomly initialized bias\n",
    "\n",
    "    def __str__(self):\n",
    "        return \"Neuron <activation: %s>\" % self.activation\n",
    "\n",
    "    def __repr__(self):\n",
    "        return \"Neuron <activation: %s>\" % self.activation\n",
    "\n",
    "    def output(self, X):\n",
    "        \"\"\"\n",
    "            X: np.array() -> an array of input values of shape m by n (m x n) into the neuron where m represents the number training examples or batch size and n represents the number of inputs\n",
    "        \"\"\"\n",
    "        \n",
    "        z = np.dot(X, self.weights) + self.bias\n",
    "        \n",
    "        if self.activation == 'sigmoid':\n",
    "            output = sigmoid(z)\n",
    "            return output\n",
    "        \n",
    "        elif self.activation == 'tanh':\n",
    "            output = tanh(z)\n",
    "            return output\n",
    "        \n",
    "        elif self.activation == 'relu':\n",
    "            output = relu(z)\n",
    "            return output\n",
    "        \n",
    "        elif self.activation == 'linear':\n",
    "            output = linear(z)\n",
    "            return output\n",
    "\n",
    "##### Layer #####\n",
    "\n",
    "class Layer:\n",
    "    \"\"\"\n",
    "        Neural Network Layer Implementation.\n",
    "    \"\"\"\n",
    "    \n",
    "    def __init__(self, num_inputs, num_units, activation='sigmoid'):\n",
    "        \"\"\"\n",
    "            num_inputs: int -> number of inputs into the network layer\n",
    "            num_units: int -> number of neuron units in a specific layer of a neural network\n",
    "            activation: str -> activation for that particular layer\n",
    "            self.neurons: np.array -> initialized neurons for the network\n",
    "            self.layer_weights: np.array -> l by k (l x k) where l is the number of inputs from the previous layer and k is the number of neurons in the layer\n",
    "        \"\"\"\n",
    "        \n",
    "        self.num_units = num_units\n",
    "        self.activation = activation\n",
    "        \n",
    "        self.neurons = np.array([\n",
    "            Neuron(activation=self.activation, \n",
    "                   input_weights=np.random.randn(num_inputs), \n",
    "                   bias=np.random.randn()) for unit in range(self.num_units)]) # assigning random weights and biases\n",
    "        \n",
    "        self.layer_weights = np.array([neuron.weights for neuron in self.neurons]).T\n",
    "        self.layer_biases = np.array([neuron.bias for neuron in self.neurons])\n",
    " \n",
    "    def output(self, X):\n",
    "        \"\"\"\n",
    "            X: np.array() -> an array of dimension m by l (m x l) where m is the number of training examples and l is the number of inputs from the previous layer\n",
    "            \n",
    "            returns outputs -> an array of dimension m by k (m x k) where m is the number of training examples and k is the number of neurons in the layer\n",
    "        \"\"\"\n",
    "        \n",
    "        z = np.dot(X, self.layer_weights) + self.layer_biases\n",
    "        \n",
    "        if self.activation == 'sigmoid':\n",
    "            output = sigmoid(z)\n",
    "            return output\n",
    "        \n",
    "        elif self.activation == 'tanh':\n",
    "            output = tanh(z)\n",
    "            return output\n",
    "        \n",
    "        elif self.activation == 'relu':\n",
    "            output = relu(z)\n",
    "            return output\n",
    "        \n",
    "        elif self.activation == 'linear':\n",
    "            output = linear(z)\n",
    "            return output\n",
    "    \n",
    "#     def update_weights_and_biases(self, weights, biases):\n",
    "#         self.weights = weights.T\n",
    "#         self.biases = biases\n",
    "\n",
    "\n",
    "if __name__ == \"__main__\":\n",
    "    pass"
   ]
  },
  {
   "cell_type": "code",
   "execution_count": 18,
   "id": "a59ccdaa",
   "metadata": {},
   "outputs": [],
   "source": [
    "class Network:\n",
    "    \n",
    "    _delta = 0.0001\n",
    "    \n",
    "    def __init__(self, layers=[]):\n",
    "        self.layers = np.array(layers) # initilaize random weights to the layers\n",
    "        self.network_weights = [\n",
    "            layer.layer_weights for layer in self.layers\n",
    "        ]\n",
    "        self.network_biases = [\n",
    "            layer.layer_biases for layer in self.layers\n",
    "        ]\n",
    "        \n",
    "        self.history_loss = np.inf\n",
    "        \n",
    " \n",
    "#         self.init_weights = copy.deepcopy(self.weights)\n",
    "#         self.init_biases = copy.deepcopy(self.biases)\n",
    "#         self.init_loss = 0\n",
    "#         self.loss_metric = ''\n",
    "\n",
    "    def forward(self, X, layers):\n",
    "        \n",
    "        outputs = X.copy()\n",
    "        \n",
    "        for layer in layers:\n",
    "            outputs = layer.output(outputs)\n",
    "        return outputs\n",
    "    \n",
    "    def update_weights_and_biases(self, X, y, learning_rate=0.01):\n",
    "        ref_layers = deepcopy(self.layers)\n",
    "        updated_layers = deepcopy(self.layers)\n",
    "        \n",
    "        ref_outputs = self.forward(X, ref_layers)\n",
    "        ref_loss = mse(y, ref_outputs) \n",
    "        \n",
    "        ## weight updates\n",
    "        for layer_idx in range(len(ref_layers)):\n",
    "            dynamic_layers = deepcopy(self.layers)\n",
    "            for neuron_idx in range(len(dynamic_layers[layer_idx].layer_weights)):\n",
    "                for weight_idx in range(len(dynamic_layers[layer_idx].layer_weights[neuron_idx])):\n",
    "#                     print(ref_layers[layer_idx].layer_weights[neuron_idx][weight_idx])\n",
    "#                     print('*'*30)\n",
    "#                     print(self.layers[layer_idx].layer_weights[neuron_idx][weight_idx])\n",
    "#                     print(dynamic_layers[layer_idx].layer_weights[neuron_idx][weight_idx])\n",
    "                    dynamic_layers[layer_idx].layer_weights[neuron_idx][weight_idx] += Network._delta\n",
    "#                     print(dynamic_layers[layer_idx].layer_weights[neuron_idx][weight_idx])\n",
    "                    \n",
    "                    ##### forward #####\n",
    "                    outputs = self.forward(X, dynamic_layers)\n",
    "#                     print(outputs)\n",
    "                    temp_loss = mse(y, outputs)\n",
    "#                     print(f\"Loss after changing weight by delta: {temp_loss}\")\n",
    "#                     print(f\"Loss after before changing weight by delta: {ref_loss}\")\n",
    "                    \n",
    "                    #### get change in loss w.r.t change in weight\n",
    "                    d_L = temp_loss - ref_loss\n",
    "#                     print(temp_loss)\n",
    "#                     print(ref_loss)\n",
    "                    d_W = Network._delta\n",
    "                    \n",
    "                    dL_dW = d_L/d_W\n",
    "                    \n",
    "#                     print(dL_dW)\n",
    "                    \n",
    "#                     print(updated_layers[layer_idx].layer_weights)\n",
    "                    \n",
    "                    #### update weights\n",
    "                    updated_layers[layer_idx].layer_weights[neuron_idx][weight_idx] -= learning_rate*dL_dW\n",
    "                    \n",
    "        ## bias updates\n",
    "        for layer_idx in range(len(ref_layers)):\n",
    "            dynamic_layers = deepcopy(self.layers)\n",
    "            for neuron_idx in range(len(dynamic_layers[layer_idx].layer_biases)):\n",
    "                dynamic_layers[layer_idx].layer_biases[neuron_idx] += Network._delta\n",
    "\n",
    "                ##### forward #####\n",
    "                outputs = self.forward(X, dynamic_layers)\n",
    "                temp_loss = mse(y, outputs)\n",
    "#                 print(f\"Loss after changing weight by delta: {temp_loss}\")\n",
    "#                 print(f\"Loss after before changing weight by delta: {ref_loss}\")\n",
    "\n",
    "                #### get change in loss w.r.t change in bias\n",
    "                d_L = temp_loss - ref_loss\n",
    "                d_B = Network._delta\n",
    "\n",
    "                dL_dB = d_L/d_B\n",
    "                \n",
    "#                 print(dL_dB)\n",
    "                \n",
    "#                 print(updated_layers[layer_idx].layer_biases)\n",
    "\n",
    "                #### update weights\n",
    "                updated_layers[layer_idx].layer_biases[neuron_idx] -= learning_rate*dL_dB\n",
    "        \n",
    "#         print(ref_layers[0].layer_weights)\n",
    "#         print(\"*\"*60)\n",
    "#         print(updated_layers[0].layer_weights)\n",
    "        new_loss = mse(y, self.forward(X, updated_layers))\n",
    "        self.layers = deepcopy(updated_layers)\n",
    "        return new_loss\n",
    "    \n",
    "    def fit(self, X, y, batch_size, epochs=400, learning_rate=0.01):\n",
    "        init_lr = learning_rate\n",
    "        losses = []\n",
    "        num_batches = np.int32(np.ceil(np.float32(len(X)) / batch_size))\n",
    "        print(num_batches)\n",
    "        for epoch in tqdm(iterable=range(epochs), desc=f'Training for {epochs} epochs', total=len(range(epochs))): # tqdm_notebook\n",
    "            epoch_loss = 0\n",
    "            for batch_num in range(num_batches):\n",
    "                if batch_num == (num_batches - 1):\n",
    "                    batch_X = X[batch_num*batch_size:,:]\n",
    "                    batch_y = y[batch_num*batch_size:,:]\n",
    "                else:\n",
    "                    batch_X = X[batch_num*batch_size:(batch_num+1)*batch_size,:]\n",
    "                    batch_y = y[batch_num*batch_size:(batch_num+1)*batch_size,:]\n",
    "                new_loss = self.update_weights_and_biases(batch_X, batch_y, learning_rate=init_lr)\n",
    "#                 print(new_loss)\n",
    "                epoch_loss += new_loss\n",
    "#             print(f\"EPOCH {epoch} completed with loss: {epoch_loss}\")\n",
    "            losses.append(epoch_loss)\n",
    "#             if epoch_loss == self.history_loss:\n",
    "#                 init_lr -= init_lr*.01\n",
    "#             print(f'loss before: {self.history_loss}')\n",
    "#             self.history_loss = epoch_loss\n",
    "#             print('*'*60)   \n",
    "        return losses\n",
    "        \n",
    "    def predict(self, X):\n",
    "        outputs = self.forward(X, layers=self.layers)\n",
    "        return outputs\n",
    "                   \n",
    "        \n",
    "#     def re_init(self,):\n",
    "#         self.weights = np.array([np.array([np.array([0.0 for feature in range(layer.input_shape)]) for unit in range(layer.units)]) for layer in self.layers])\n",
    "#         self.biases = np.array([np.array([0.0 for unit in range(layer.units)]) for layer in self.layers])\n",
    "        \n",
    "#         #******************************************#\n",
    "#         self.assign_weights_to_layers()\n",
    "#         self.init_weights = copy.deepcopy(self.weights)\n",
    "#         self.init_biases = copy.deepcopy(self.biases)\n",
    "#         self.init_loss = 0\n",
    "#         self.loss_metric = ''\n",
    "        \n",
    "#     def assign_weights_to_layers(self,):\n",
    "#         for layer_idx in range(len(self.weights)):\n",
    "#             for unit_idx in range(len(self.weights[layer_idx])):\n",
    "#                 self.layers[layer_idx].neurons[unit_idx].weights = self.weights[layer_idx][unit_idx]\n",
    "#                 self.layers[layer_idx].neurons[unit_idx].bias = self.biases[layer_idx][unit_idx]\n",
    "        \n",
    "#     def weights_and_biases(self, ):\n",
    "#         return self.weights, self.biases\n",
    "    \n",
    "#     def layers(self,):\n",
    "#         return self.layers\n",
    "    \n",
    "#     def num_weights_and_biases(self, ):\n",
    "#         num_weights = 0\n",
    "#         num_biases = 0\n",
    "#         for layer in self.weights:\n",
    "#             for unit in layer:\n",
    "#                 for weight in unit:\n",
    "#                     num_weights += 1\n",
    "                    \n",
    "#         for layer in self.biases:\n",
    "#             for unit in layer:\n",
    "#                 num_biases += 1\n",
    "                \n",
    "#         return num_weights, num_biases\n",
    "    \n",
    "#     def update_weights_and_biases(self, weights, biases):\n",
    "#         for layer_idx in range(len(weights)):\n",
    "#             self.layers[layer_idx].update_weights_and_biases(weights[layer_idx], biases[layer_idx])\n",
    "    \n",
    "#     def loss_function(self, y_true, y_pred):\n",
    "#         if self.loss_metric == 'mse':\n",
    "#             return mse(y_true, y_pred)\n",
    "#         elif self.loss_metric == 'rmse':\n",
    "#             return mse(y_true, y_pred, squared=False)\n",
    "#         elif self.loss_metric == 'binary_crossentropy':\n",
    "#             return -1 * (y_true * np.log(y_pred) + (1 - y_true) * np.log(1 - y_pred))\n",
    "#         elif self.loss_metric == 'sparse_categorical_crossentropy':\n",
    "#             pass\n",
    "    \n",
    "#     def fit(self, X, y, loss_metric='mse', learning_rate=0.01, EPOCHS=100):\n",
    "#         self.re_init()\n",
    "#         self.loss_metric = loss_metric\n",
    "#         self.calculate_init_loss(X, y)\n",
    "        \n",
    "#         # forward and backward propagations\n",
    "#         preds, loss = self.learn_params(X, y, learning_rate, EPOCHS)\n",
    "#         return preds, loss\n",
    "\n",
    "#     def calculate_init_loss(self, X, y):\n",
    "#         init_preds = self.output(X)\n",
    "#         self.init_loss = self.loss_function(init_preds, y)\n",
    "    \n",
    "#     def reinitialize_weights_and_biases(self, weights, biases):\n",
    "#         self.init_weights = copy.deepcopy(weights)\n",
    "#         self.init_biases = copy.deepcopy(biases)\n",
    "        \n",
    "#     def optimize_learning(self, X, y, loss_metric='mse'):\n",
    "#         best_eta = 0\n",
    "#         min_loss = np.inf\n",
    "#         possible_etas = np.arange(0,1,1e-4)\n",
    "        \n",
    "#         for eta in possible_etas:\n",
    "#             preds, loss, = self.fit(X, y, loss_metric=loss_metric, learning_rate=eta, EPOCHS=100)\n",
    "#             if loss < min_loss:\n",
    "#                 best_eta = eta\n",
    "#                 min_loss = loss\n",
    "                \n",
    "#         return self.fit(X, y, loss_metric=loss_metric, learning_rate=best_eta, EPOCHS=100), best_eta\n",
    "    \n",
    "#     def predict(self, test):\n",
    "#         return self.output(test)\n",
    "            \n",
    "#     def learn_params(self, X, y, learning_rate, EPOCHS):\n",
    "        \n",
    "#         preds_history = []\n",
    "        \n",
    "#         for i in range(EPOCHS):\n",
    "#             for layer_idx in range(len(self.weights)):\n",
    "#                 for unit_idx in range(len(self.weights[layer_idx])):\n",
    "#                     for weight_idx in range(len(self.weights[layer_idx][unit_idx])):\n",
    "#                         weights_copy = copy.deepcopy(self.init_weights)\n",
    "#                         weights_copy[layer_idx][unit_idx][weight_idx] += 0.01\n",
    "\n",
    "#                         # get prediction from changing the current weight \n",
    "#                         self.update_weights_and_biases(weights_copy, self.init_biases)\n",
    "#                         cur_pred = self.output(X)\n",
    "                        \n",
    "#                         loss = self.loss_function(y, cur_pred)\n",
    "#                         dJ_dw = (loss - self.init_loss) / 0.01\n",
    "#                         self.weights[layer_idx][unit_idx][weight_idx] =- (learning_rate * dJ_dw)\n",
    "#                         self.update_weights_and_biases(self.init_weights, self.init_biases)\n",
    "                        \n",
    "#                     # update the bias term\n",
    "#                     bias_copy = copy.deepcopy(self.init_biases)\n",
    "#                     bias_copy[layer_idx][unit_idx] = bias_copy[layer_idx][unit_idx] + 0.01\n",
    "#                     self.update_weights_and_biases(self.init_weights, bias_copy)\n",
    "#                     cur_pred = self.output(X)\n",
    "#                     loss = self.loss_function(y, cur_pred)\n",
    "#                     dJ_db = (loss - self.init_loss) / 0.01   \n",
    "                    \n",
    "#                     # update bias parameter\n",
    "#                     self.biases[layer_idx][unit_idx] -= (learning_rate * dJ_db)\n",
    "#                     self.update_weights_and_biases(self.init_weights, self.init_biases)\n",
    "           \n",
    "#             # Reassign weights to the layers after each EPOCH\n",
    "#             self.update_weights_and_biases(self.weights, self.biases)\n",
    "#             self.reinitialize_weights_and_biases(self.weights, self.biases)\n",
    "#             new_preds = self.output(X)\n",
    "#             preds_history.append(new_preds)  \n",
    "#             new_loss = self.loss_function(y, new_preds)\n",
    "#             if (new_loss > self.init_loss) and i > 2:\n",
    "#                 print(f\"\\n{'='*40}End of Training. Convergence Reached{'='*40}\\n\\n\")\n",
    "#                 break \n",
    "#             self.init_loss = self.loss_function(y, new_preds) \n",
    "#             print(f\"Loss after epoch {i+1} ******************{self.init_loss}***********************\")\n",
    "#         if i == 99:\n",
    "#             print(f\"\\n{'='*39}End of Training. Specified EPOCHS Exhausted{'='*39}\\n\\n\")\n",
    "#         return preds_history[-2], self.init_loss"
   ]
  },
  {
   "cell_type": "code",
   "execution_count": 19,
   "id": "19c61332",
   "metadata": {},
   "outputs": [],
   "source": [
    "X = np.array([[1,1],\n",
    "              [1,2],\n",
    "              [1,3],\n",
    "              [1,4],\n",
    "              [1,5],\n",
    "              [1,6],\n",
    "              [1,7],\n",
    "              [1,8],\n",
    "             [3,5],\n",
    "             [5,6],\n",
    "             [2,3],\n",
    "             [3,6],\n",
    "             [4,5],\n",
    "             [6,7],\n",
    "             [1,4],\n",
    "             [4,7],\n",
    "             [6,8],\n",
    "             [5,8],\n",
    "             [4,6],\n",
    "             [3,8],\n",
    "             [2,10],\n",
    "             [1,1],\n",
    "             [3,2],\n",
    "             [4,7],\n",
    "             [5,4],\n",
    "             [9,10],\n",
    "             [4,8],\n",
    "             [12,13],\n",
    "             [11,12],\n",
    "             [11,13],\n",
    "             [14,15],\n",
    "             [15,16],\n",
    "             [14,17],\n",
    "             [18,19],\n",
    "             [8,15],\n",
    "             [8,12],\n",
    "             [10,14],\n",
    "             [18,20],\n",
    "             [15,16],\n",
    "             [16,18],\n",
    "             [20,22]])"
   ]
  },
  {
   "cell_type": "code",
   "execution_count": 20,
   "id": "051c0987",
   "metadata": {},
   "outputs": [],
   "source": [
    "y = np.zeros((X.shape[0], 1))"
   ]
  },
  {
   "cell_type": "code",
   "execution_count": 21,
   "id": "96bf535c",
   "metadata": {},
   "outputs": [],
   "source": [
    "# y = x[0]**2 + x[1] + 5"
   ]
  },
  {
   "cell_type": "code",
   "execution_count": 22,
   "id": "e3080d51",
   "metadata": {},
   "outputs": [
    {
     "name": "stdout",
     "output_type": "stream",
     "text": [
      "[[  7.]\n",
      " [  8.]\n",
      " [  9.]\n",
      " [ 10.]\n",
      " [ 11.]\n",
      " [ 12.]\n",
      " [ 13.]\n",
      " [ 14.]\n",
      " [ 19.]\n",
      " [ 36.]\n",
      " [ 12.]\n",
      " [ 20.]\n",
      " [ 26.]\n",
      " [ 48.]\n",
      " [ 10.]\n",
      " [ 28.]\n",
      " [ 49.]\n",
      " [ 38.]\n",
      " [ 27.]\n",
      " [ 22.]\n",
      " [ 19.]\n",
      " [  7.]\n",
      " [ 16.]\n",
      " [ 28.]\n",
      " [ 34.]\n",
      " [ 96.]\n",
      " [ 29.]\n",
      " [162.]\n",
      " [138.]\n",
      " [139.]\n",
      " [216.]\n",
      " [246.]\n",
      " [218.]\n",
      " [348.]\n",
      " [ 84.]\n",
      " [ 81.]\n",
      " [119.]\n",
      " [349.]\n",
      " [246.]\n",
      " [279.]\n",
      " [427.]]\n"
     ]
    }
   ],
   "source": [
    "for idx, row in enumerate(X):\n",
    "#     print(idx)\n",
    "    y[idx] = X[idx][0]**2 + X[idx][1] + 5\n",
    "\n",
    "print(y)"
   ]
  },
  {
   "cell_type": "code",
   "execution_count": 23,
   "id": "872f7a3c",
   "metadata": {},
   "outputs": [],
   "source": [
    "network = Network(\n",
    "        [\n",
    "            Layer(num_inputs=2, num_units=5, activation='relu'),\n",
    "            Layer(num_inputs=5, num_units=4, activation='relu'),\n",
    "            Layer(num_inputs=4, num_units=3, activation='relu'),\n",
    "            Layer(num_inputs=3, num_units=1, activation='linear'),\n",
    "        ]\n",
    "    )"
   ]
  },
  {
   "cell_type": "code",
   "execution_count": 24,
   "id": "4b966ccc",
   "metadata": {},
   "outputs": [
    {
     "data": {
      "text/plain": [
       "array([[ 0.82031264, -0.2521043 , -0.13578705,  1.36433214, -0.48310578],\n",
       "       [ 0.56061151, -1.38961345,  1.28790496, -0.30995664, -0.60898369]])"
      ]
     },
     "execution_count": 24,
     "metadata": {},
     "output_type": "execute_result"
    }
   ],
   "source": [
    "network.layers[0].layer_weights"
   ]
  },
  {
   "cell_type": "code",
   "execution_count": 25,
   "id": "44655775",
   "metadata": {},
   "outputs": [
    {
     "data": {
      "text/plain": [
       "[array([[ 0.82031264, -0.2521043 , -0.13578705,  1.36433214, -0.48310578],\n",
       "        [ 0.56061151, -1.38961345,  1.28790496, -0.30995664, -0.60898369]]),\n",
       " array([[ 0.639322  ,  0.18310987, -1.00157763,  0.23230697],\n",
       "        [ 0.77430395, -1.13322409, -0.56751101, -0.29510767],\n",
       "        [ 1.2785694 , -0.27908571, -0.22565803, -0.361676  ],\n",
       "        [ 0.70527602,  1.3966199 ,  0.93802381,  0.43211507],\n",
       "        [ 0.65597738,  0.03221944,  0.83678413,  0.93395855]]),\n",
       " array([[ 0.09362341, -0.7879492 ,  0.84060764],\n",
       "        [ 0.29482583,  1.59381165, -1.0230944 ],\n",
       "        [ 1.48543077,  1.40590436,  0.4947723 ],\n",
       "        [-1.08688515,  1.64475657,  0.8957326 ]]),\n",
       " array([[-0.11453052],\n",
       "        [ 0.15689743],\n",
       "        [ 0.38759667]])]"
      ]
     },
     "execution_count": 25,
     "metadata": {},
     "output_type": "execute_result"
    }
   ],
   "source": [
    "network.network_weights"
   ]
  },
  {
   "cell_type": "code",
   "execution_count": 26,
   "id": "ad5e5222",
   "metadata": {},
   "outputs": [
    {
     "data": {
      "text/plain": [
       "41"
      ]
     },
     "execution_count": 26,
     "metadata": {},
     "output_type": "execute_result"
    }
   ],
   "source": [
    "len(X)"
   ]
  },
  {
   "cell_type": "code",
   "execution_count": 27,
   "id": "9f82949f",
   "metadata": {},
   "outputs": [
    {
     "name": "stdout",
     "output_type": "stream",
     "text": [
      "3\n"
     ]
    },
    {
     "name": "stderr",
     "output_type": "stream",
     "text": [
      "Training for 1000 epochs: 100%|████████████████████████████████████████████████████| 1000/1000 [00:55<00:00, 18.00it/s]\n"
     ]
    }
   ],
   "source": [
    "losses = network.fit(X, y, batch_size=16, epochs=1000, learning_rate=0.01)"
   ]
  },
  {
   "cell_type": "code",
   "execution_count": 28,
   "id": "f98981b8",
   "metadata": {},
   "outputs": [
    {
     "data": {
      "text/plain": [
       "[<matplotlib.lines.Line2D at 0x22867b0c370>]"
      ]
     },
     "execution_count": 28,
     "metadata": {},
     "output_type": "execute_result"
    },
    {
     "data": {
      "image/png": "[encoded data removed]",
      "text/plain": [
       "<Figure size 1200x800 with 1 Axes>"
      ]
     },
     "metadata": {},
     "output_type": "display_data"
    }
   ],
   "source": [
    "plt.figure(figsize=(12,8))\n",
    "plt.plot(losses[10:])"
   ]
  },
  {
   "cell_type": "code",
   "execution_count": 60,
   "id": "31c3b8ea",
   "metadata": {},
   "outputs": [
    {
     "data": {
      "text/plain": [
       "array([[26.38292853]])"
      ]
     },
     "execution_count": 60,
     "metadata": {},
     "output_type": "execute_result"
    }
   ],
   "source": [
    "network.predict(np.array([[3,8]]))"
   ]
  },
  {
   "cell_type": "code",
   "execution_count": 61,
   "id": "c6b4d44d",
   "metadata": {},
   "outputs": [
    {
     "data": {
      "text/plain": [
       "164.3905352804723"
      ]
     },
     "execution_count": 61,
     "metadata": {},
     "output_type": "execute_result"
    }
   ],
   "source": [
    "network.update_weights_and_biases(X, y)"
   ]
  },
  {
   "cell_type": "code",
   "execution_count": null,
   "id": "d8d0acb4",
   "metadata": {},
   "outputs": [],
   "source": []
  },
  {
   "cell_type": "code",
   "execution_count": null,
   "id": "084e42bf",
   "metadata": {},
   "outputs": [],
   "source": []
  },
  {
   "cell_type": "code",
   "execution_count": 524,
   "id": "20abc8a8",
   "metadata": {},
   "outputs": [],
   "source": [
    "a = np.array([[1,2,3,4,5,6]])\n",
    "b = np.array([2,3,4,5,6,7])"
   ]
  },
  {
   "cell_type": "code",
   "execution_count": 525,
   "id": "bb781b19",
   "metadata": {},
   "outputs": [],
   "source": [
    "c = np.dot(a, b)"
   ]
  },
  {
   "cell_type": "code",
   "execution_count": 526,
   "id": "98fb67c8",
   "metadata": {},
   "outputs": [
    {
     "data": {
      "text/plain": [
       "array([112])"
      ]
     },
     "execution_count": 526,
     "metadata": {},
     "output_type": "execute_result"
    }
   ],
   "source": [
    "c"
   ]
  },
  {
   "cell_type": "code",
   "execution_count": 527,
   "id": "e4db853f",
   "metadata": {},
   "outputs": [],
   "source": [
    "d = np.array([3], dtype=np.float32)"
   ]
  },
  {
   "cell_type": "code",
   "execution_count": 528,
   "id": "2a3c530b",
   "metadata": {},
   "outputs": [
    {
     "data": {
      "text/plain": [
       "array([115.])"
      ]
     },
     "execution_count": 528,
     "metadata": {},
     "output_type": "execute_result"
    }
   ],
   "source": [
    "c+d"
   ]
  },
  {
   "cell_type": "code",
   "execution_count": 529,
   "id": "2265bee9",
   "metadata": {},
   "outputs": [
    {
     "data": {
      "text/plain": [
       "112"
      ]
     },
     "execution_count": 529,
     "metadata": {},
     "output_type": "execute_result"
    }
   ],
   "source": [
    "(1*2) + (2*3) + (3*4) + (4*5) + (5*6) + (6*7)"
   ]
  },
  {
   "cell_type": "code",
   "execution_count": 530,
   "id": "b23855af",
   "metadata": {},
   "outputs": [],
   "source": [
    "a = np.array([\n",
    "    [1,2,3,4,5,6],\n",
    "    [2,3,4,5,6,7]\n",
    "])\n",
    "\n",
    "b = np.array([1,\n",
    "              2,\n",
    "              3,\n",
    "              4,\n",
    "              5,\n",
    "              6])"
   ]
  },
  {
   "cell_type": "code",
   "execution_count": 531,
   "id": "df5d885c",
   "metadata": {},
   "outputs": [
    {
     "data": {
      "text/plain": [
       "(2,)"
      ]
     },
     "execution_count": 531,
     "metadata": {},
     "output_type": "execute_result"
    }
   ],
   "source": [
    "np.dot(a, b).shape"
   ]
  },
  {
   "cell_type": "code",
   "execution_count": 409,
   "id": "291aee30",
   "metadata": {},
   "outputs": [
    {
     "data": {
      "text/plain": [
       "(2, 6)"
      ]
     },
     "execution_count": 409,
     "metadata": {},
     "output_type": "execute_result"
    }
   ],
   "source": [
    "a.shape"
   ]
  },
  {
   "cell_type": "code",
   "execution_count": 410,
   "id": "35c15052",
   "metadata": {},
   "outputs": [
    {
     "data": {
      "text/plain": [
       "array([[ 1,  4,  9, 16, 25, 36],\n",
       "       [ 2,  6, 12, 20, 30, 42]])"
      ]
     },
     "execution_count": 410,
     "metadata": {},
     "output_type": "execute_result"
    }
   ],
   "source": [
    "a * b"
   ]
  },
  {
   "cell_type": "code",
   "execution_count": 411,
   "id": "0f62f636",
   "metadata": {},
   "outputs": [],
   "source": [
    "#### Layer structure\n",
    "\n",
    "#### if a layer has 6 neurons for instance\n",
    "\n",
    "## The weights for that layer will look like;\n",
    "\n",
    "layer_weights = np.array([\n",
    "    [], ### neuron 1\n",
    "    [], ### neuron 2\n",
    "    [],  ### neuron 3\n",
    "    [], ### neuron 4\n",
    "    [], ### neuron 5\n",
    "    [], ### neuron 6\n",
    "])"
   ]
  },
  {
   "cell_type": "code",
   "execution_count": null,
   "id": "046018fd",
   "metadata": {},
   "outputs": [],
   "source": []
  },
  {
   "cell_type": "code",
   "execution_count": 412,
   "id": "c71d7423",
   "metadata": {},
   "outputs": [
    {
     "data": {
      "text/plain": [
       "array([0.93641234])"
      ]
     },
     "execution_count": 412,
     "metadata": {},
     "output_type": "execute_result"
    }
   ],
   "source": [
    "np.random.rand(1) + np.random.rand()"
   ]
  },
  {
   "cell_type": "code",
   "execution_count": 413,
   "id": "87d1fb33",
   "metadata": {},
   "outputs": [],
   "source": [
    "a = np.array([[1,2,3,4,5],\n",
    "              [2,3,4,5,6],\n",
    "              [3,4,5,6,7],\n",
    "              [4,5,6,7,8],\n",
    "              [5,6,7,8,9]])\n",
    "\n",
    "\n",
    "b = np.array([[1,2,3],\n",
    "              [4,5,6],\n",
    "              [7,8,9],\n",
    "              [10,11,12],\n",
    "              [13,14,15]])"
   ]
  },
  {
   "cell_type": "code",
   "execution_count": 414,
   "id": "8801132c",
   "metadata": {},
   "outputs": [
    {
     "data": {
      "text/plain": [
       "array([[135, 150, 165],\n",
       "       [170, 190, 210],\n",
       "       [205, 230, 255],\n",
       "       [240, 270, 300],\n",
       "       [275, 310, 345]])"
      ]
     },
     "execution_count": 414,
     "metadata": {},
     "output_type": "execute_result"
    }
   ],
   "source": [
    "np.dot(a, b)"
   ]
  },
  {
   "cell_type": "code",
   "execution_count": 415,
   "id": "ba28cef7",
   "metadata": {},
   "outputs": [],
   "source": [
    "layer = Layer(num_inputs=5, num_units=4, activation='sigmoid')"
   ]
  },
  {
   "cell_type": "code",
   "execution_count": 416,
   "id": "251feda2",
   "metadata": {},
   "outputs": [
    {
     "data": {
      "text/plain": [
       "array([0.43702675, 0.95928087, 0.99790344, 0.25500046])"
      ]
     },
     "execution_count": 416,
     "metadata": {},
     "output_type": "execute_result"
    }
   ],
   "source": [
    "layer.layer_biases"
   ]
  },
  {
   "cell_type": "code",
   "execution_count": 417,
   "id": "c637660f",
   "metadata": {},
   "outputs": [
    {
     "data": {
      "text/plain": [
       "array([0.43702675, 0.95928087, 0.99790344, 0.25500046])"
      ]
     },
     "execution_count": 417,
     "metadata": {},
     "output_type": "execute_result"
    }
   ],
   "source": [
    "layer.layer_biases"
   ]
  },
  {
   "cell_type": "code",
   "execution_count": 418,
   "id": "2b908e01",
   "metadata": {},
   "outputs": [
    {
     "data": {
      "text/plain": [
       "array([[1.28440351, 1.07246236, 1.74392941, 1.1730198 ],\n",
       "       [1.41076013, 1.84849966, 1.23057811, 0.69319307],\n",
       "       [0.98675823, 1.29496203, 1.53265511, 1.00901726],\n",
       "       [0.52989685, 1.62590647, 1.44012565, 0.94913779],\n",
       "       [1.1181564 , 1.0703146 , 1.63551346, 1.07495158]])"
      ]
     },
     "execution_count": 418,
     "metadata": {},
     "output_type": "execute_result"
    }
   ],
   "source": [
    "layer.layer_weights + layer.layer_biases.T"
   ]
  },
  {
   "cell_type": "code",
   "execution_count": 419,
   "id": "5963b9d1",
   "metadata": {},
   "outputs": [
    {
     "data": {
      "text/plain": [
       "array([[1.28440351, 1.07246236, 1.74392941, 1.1730198 ],\n",
       "       [1.41076013, 1.84849966, 1.23057811, 0.69319307],\n",
       "       [0.98675823, 1.29496203, 1.53265511, 1.00901726],\n",
       "       [0.52989685, 1.62590647, 1.44012565, 0.94913779],\n",
       "       [1.1181564 , 1.0703146 , 1.63551346, 1.07495158]])"
      ]
     },
     "execution_count": 419,
     "metadata": {},
     "output_type": "execute_result"
    }
   ],
   "source": [
    "layer.layer_weights + layer.layer_biases"
   ]
  },
  {
   "cell_type": "code",
   "execution_count": 420,
   "id": "1483f4ec",
   "metadata": {},
   "outputs": [],
   "source": [
    "X = np.array([[1,2,3,4,5],\n",
    "             [6,7,8,9,10],\n",
    "             [11,12,13,14,15],\n",
    "             [16,17,18,19,20],\n",
    "             [21,22,23,24,25]])"
   ]
  },
  {
   "cell_type": "code",
   "execution_count": 421,
   "id": "917b5845",
   "metadata": {},
   "outputs": [
    {
     "data": {
      "text/plain": [
       "array([[0.99982633, 0.99915861, 0.99984477, 0.99998616],\n",
       "       [1.        , 0.99999998, 1.        , 1.        ],\n",
       "       [1.        , 1.        , 1.        , 1.        ],\n",
       "       [1.        , 1.        , 1.        , 1.        ],\n",
       "       [1.        , 1.        , 1.        , 1.        ]])"
      ]
     },
     "execution_count": 421,
     "metadata": {},
     "output_type": "execute_result"
    }
   ],
   "source": [
    "layer.output(X)"
   ]
  },
  {
   "cell_type": "code",
   "execution_count": null,
   "id": "9ef190e0",
   "metadata": {},
   "outputs": [],
   "source": []
  }
 ],
 "metadata": {
  "kernelspec": {
   "display_name": "Python 3 (ipykernel)",
   "language": "python",
   "name": "python3"
  },
  "language_info": {
   "codemirror_mode": {
    "name": "ipython",
    "version": 3
   },
   "file_extension": ".py",
   "mimetype": "text/x-python",
   "name": "python",
   "nbconvert_exporter": "python",
   "pygments_lexer": "ipython3",
   "version": "3.10.1"
  }
 },
 "nbformat": 4,
 "nbformat_minor": 5
}
